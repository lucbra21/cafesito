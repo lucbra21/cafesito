{
 "cells": [
  {
   "cell_type": "code",
   "execution_count": 3,
   "metadata": {},
   "outputs": [],
   "source": [
    "import pandas as pd\n",
    "import mysql.connector\n",
    "from typing import Dict, List\n",
    "from dotenv import load_dotenv # pip install python-dotenv\n",
    "import os"
   ]
  },
  {
   "cell_type": "code",
   "execution_count": 4,
   "metadata": {},
   "outputs": [
    {
     "data": {
      "text/plain": [
       "True"
      ]
     },
     "execution_count": 4,
     "metadata": {},
     "output_type": "execute_result"
    }
   ],
   "source": [
    "# Cargar variables desde el archivo .env\n",
    "load_dotenv(dotenv_path=\".env\")"
   ]
  },
  {
   "cell_type": "code",
   "execution_count": 5,
   "metadata": {},
   "outputs": [],
   "source": [
    "def connect_to_database():\n",
    "    \"\"\"Establece la conexión con la base de datos MySQL\"\"\"\n",
    "    host = os.getenv(\"host\")\n",
    "    user = os.getenv(\"user\")\n",
    "    password = os.getenv(\"password\")\n",
    "    database = os.getenv(\"database\")\n",
    "\n",
    "    return mysql.connector.connect(\n",
    "        host=host,\n",
    "        user=user,\n",
    "        password=password,\n",
    "        database=database\n",
    "    )"
   ]
  },
  {
   "cell_type": "code",
   "execution_count": 9,
   "metadata": {},
   "outputs": [],
   "source": [
    "\n",
    "def process_excel(file_path: str) -> tuple[Dict[str, tuple], List[tuple]]:\n",
    "    \"\"\"\n",
    "    Procesa el archivo CSV y retorna los datos procesados para países y equipos\n",
    "    \"\"\"\n",
    "    # Leer el CSV\n",
    "    df = pd.read_excel(file_path)\n",
    "    \n",
    "    # Procesar países únicos\n",
    "    countries_dict = {}\n",
    "    country_id = 1\n",
    "    \n",
    "    for _, row in df.iterrows():\n",
    "        if row['countryCode'] not in countries_dict:\n",
    "            countries_dict[row['countryCode']] = (\n",
    "                country_id,\n",
    "                row['countryName'],\n",
    "                row['countryCode'],\n",
    "                None  # countryImage\n",
    "            )\n",
    "            country_id += 1\n",
    "    \n",
    "    # Procesar equipos\n",
    "    teams_data = []\n",
    "    for _, row in df.iterrows():\n",
    "        country_id = countries_dict[row['countryCode']][0]\n",
    "        teams_data.append((\n",
    "            int(row['teamId']),\n",
    "            row['teamName'],\n",
    "            None,  # teamShortName\n",
    "            row['imageUrl'],\n",
    "            country_id\n",
    "        ))\n",
    "    \n",
    "    return countries_dict, teams_data\n",
    "\n",
    "def insert_countries(cursor, countries_data: Dict[str, tuple]):\n",
    "    \"\"\"\n",
    "    Inserta o actualiza los datos de países en la base de datos.\n",
    "    Si el país ya existe (mismo countryId), actualiza sus datos.\n",
    "    \"\"\"\n",
    "    upsert_query = \"\"\"\n",
    "    INSERT INTO countries (countryId, countryName, countryShortName, countryImage)\n",
    "    VALUES (%s, %s, %s, %s)\n",
    "    ON DUPLICATE KEY UPDATE\n",
    "        countryName = VALUES(countryName),\n",
    "        countryShortName = VALUES(countryShortName),\n",
    "        countryImage = VALUES(countryImage)\n",
    "    \"\"\"\n",
    "    countries_values = [country_data for country_data in countries_data.values()]\n",
    "    \n",
    "    try:\n",
    "        cursor.executemany(upsert_query, countries_values)\n",
    "        print(f\"Procesados {len(countries_values)} países\")\n",
    "        print(f\"Insertados/Actualizados: {cursor.rowcount // 2} registros\")\n",
    "    except Exception as e:\n",
    "        print(f\"Error al procesar países: {str(e)}\")\n",
    "        raise\n",
    "\n",
    "def insert_teams(cursor, teams_data: List[tuple]):\n",
    "    \"\"\"\n",
    "    Inserta o actualiza los datos de equipos en la base de datos.\n",
    "    Si el equipo ya existe (mismo teamId), actualiza sus datos.\n",
    "    \"\"\"\n",
    "    upsert_query = \"\"\"\n",
    "    INSERT INTO teams (teamId, teamName, teamShortName, teamImage, teamCountryId)\n",
    "    VALUES (%s, %s, %s, %s, %s)\n",
    "    ON DUPLICATE KEY UPDATE\n",
    "        teamName = VALUES(teamName),\n",
    "        teamShortName = COALESCE(VALUES(teamShortName), teamShortName),\n",
    "        teamImage = VALUES(teamImage),\n",
    "        teamCountryId = VALUES(teamCountryId)\n",
    "    \"\"\"\n",
    "    \n",
    "    try:\n",
    "        cursor.executemany(upsert_query, teams_data)\n",
    "        print(f\"Procesados {len(teams_data)} equipos\")\n",
    "        print(f\"Insertados/Actualizados: {cursor.rowcount // 2} registros\")\n",
    "    except Exception as e:\n",
    "        print(f\"Error al procesar equipos: {str(e)}\")\n",
    "        raise\n",
    "\n",
    "# Función auxiliar para verificar los cambios realizados\n",
    "def verify_changes(cursor, table_name: str):\n",
    "    \"\"\"\n",
    "    Verifica y muestra los registros insertados/actualizados en una tabla\n",
    "    \"\"\"\n",
    "    query = f\"SELECT * FROM {table_name}\"\n",
    "    cursor.execute(query)\n",
    "    records = cursor.fetchall()\n",
    "    print(f\"\\nRegistros en {table_name}: {len(records)}\")\n",
    "    for record in records[:5]:  # Muestra los primeros 5 registros como ejemplo\n",
    "        print(record)\n"
   ]
  },
  {
   "cell_type": "code",
   "execution_count": 7,
   "metadata": {},
   "outputs": [],
   "source": [
    "def main():\n",
    "    try:\n",
    "        connection = connect_to_database()\n",
    "        cursor = connection.cursor()\n",
    "        \n",
    "        # Procesar el CSV\n",
    "        countries_data, teams_data = process_excel('teams.xlsx')\n",
    "        \n",
    "        # Insertar/Actualizar datos\n",
    "        insert_countries(cursor, countries_data)\n",
    "        insert_teams(cursor, teams_data)\n",
    "        \n",
    "        # Verificar cambios\n",
    "        verify_changes(cursor, 'countries')\n",
    "        verify_changes(cursor, 'teams')\n",
    "        \n",
    "        # Confirmar cambios\n",
    "        connection.commit()\n",
    "        print(\"\\nTodos los cambios fueron confirmados exitosamente\")\n",
    "        \n",
    "    except Exception as error:\n",
    "        print(f\"Error: {error}\")\n",
    "        connection.rollback()\n",
    "        print(\"Se realizó rollback de los cambios\")\n",
    "        \n",
    "    finally:\n",
    "        if connection.is_connected():\n",
    "            cursor.close()\n",
    "            connection.close()\n",
    "            print(\"Conexión cerrada\")"
   ]
  },
  {
   "cell_type": "code",
   "execution_count": 10,
   "metadata": {},
   "outputs": [
    {
     "name": "stdout",
     "output_type": "stream",
     "text": [
      "Procesados 16 países\n",
      "Insertados/Actualizados: 8 registros\n",
      "Procesados 36 equipos\n",
      "Insertados/Actualizados: 18 registros\n",
      "\n",
      "Registros en countries: 16\n",
      "(1, 'Austria', None, 'at')\n",
      "(2, 'Germany', None, 'de')\n",
      "(3, 'Netherlands', None, 'nl')\n",
      "(4, 'England', None, 'gb-eng')\n",
      "(5, 'Slovakia', None, 'sk')\n",
      "\n",
      "Registros en teams: 36\n",
      "(13, 'Arsenal', None, 'https://d2zywfiolv4f83.cloudfront.net/img/teams/13.png', 4)\n",
      "(24, 'Aston Villa', None, 'https://d2zywfiolv4f83.cloudfront.net/img/teams/24.png', 4)\n",
      "(26, 'Liverpool', None, 'https://d2zywfiolv4f83.cloudfront.net/img/teams/26.png', 4)\n",
      "(36, 'Bayer Leverkusen', None, 'https://d2zywfiolv4f83.cloudfront.net/img/teams/36.png', 2)\n",
      "(37, 'Bayern Munich', None, 'https://d2zywfiolv4f83.cloudfront.net/img/teams/37.png', 2)\n",
      "\n",
      "Todos los cambios fueron confirmados exitosamente\n",
      "Conexión cerrada\n"
     ]
    }
   ],
   "source": [
    "if __name__ == \"__main__\":\n",
    "    main()"
   ]
  },
  {
   "cell_type": "markdown",
   "metadata": {},
   "source": [
    "CARGAR A MANO EN LA TABLA DE TEAMS LOS SHORT NAME\n",
    "CARGAR EL PAIS"
   ]
  },
  {
   "cell_type": "markdown",
   "metadata": {},
   "source": []
  }
 ],
 "metadata": {
  "kernelspec": {
   "display_name": "base",
   "language": "python",
   "name": "python3"
  },
  "language_info": {
   "codemirror_mode": {
    "name": "ipython",
    "version": 3
   },
   "file_extension": ".py",
   "mimetype": "text/x-python",
   "name": "python",
   "nbconvert_exporter": "python",
   "pygments_lexer": "ipython3",
   "version": "3.11.8"
  }
 },
 "nbformat": 4,
 "nbformat_minor": 2
}

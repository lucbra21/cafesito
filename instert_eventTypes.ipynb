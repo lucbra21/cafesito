{
 "cells": [
  {
   "cell_type": "code",
   "execution_count": 1,
   "metadata": {},
   "outputs": [],
   "source": [
    "import pandas as pd\n",
    "import mysql.connector\n",
    "from typing import Dict, List\n",
    "from dotenv import load_dotenv # pip install python-dotenv\n",
    "import os"
   ]
  },
  {
   "cell_type": "code",
   "execution_count": 2,
   "metadata": {},
   "outputs": [
    {
     "data": {
      "text/plain": [
       "True"
      ]
     },
     "execution_count": 2,
     "metadata": {},
     "output_type": "execute_result"
    }
   ],
   "source": [
    "# Cargar variables desde el archivo .env\n",
    "load_dotenv(dotenv_path=\".env\")"
   ]
  },
  {
   "cell_type": "code",
   "execution_count": 3,
   "metadata": {},
   "outputs": [],
   "source": [
    "def connect_to_database():\n",
    "    \"\"\"Establece la conexión con la base de datos MySQL\"\"\"\n",
    "    host = os.getenv(\"host\")\n",
    "    user = os.getenv(\"user\")\n",
    "    password = os.getenv(\"password\")\n",
    "    database = os.getenv(\"database\")\n",
    "\n",
    "    return mysql.connector.connect(\n",
    "        host=host,\n",
    "        user=user,\n",
    "        password=password,\n",
    "        database=database\n",
    "    )"
   ]
  },
  {
   "cell_type": "code",
   "execution_count": 4,
   "metadata": {},
   "outputs": [],
   "source": [
    "def process_excel(file_path: str) -> List[tuple]:\n",
    "    \"\"\"\n",
    "    Procesa el archivo CSV de tipos de eventos y retorna una lista de tuplas\n",
    "    para inserción en la base de datos\n",
    "    \"\"\"\n",
    "    # Leer el CSV\n",
    "    df = pd.read_excel(file_path)\n",
    "    \n",
    "    # Limpiar los datos\n",
    "    event_types = []\n",
    "    for _, row in df.iterrows():\n",
    "        # Verificar si tenemos un eventTypeId válido\n",
    "        try:\n",
    "            event_type_id = int(row['typeId'])\n",
    "        except (ValueError, TypeError):\n",
    "            continue\n",
    "            \n",
    "        # Procesar solo si tenemos un ID válido\n",
    "        if pd.notna(event_type_id):\n",
    "            event_types.append((\n",
    "                event_type_id,\n",
    "                str(row['EVENT NAME']) if pd.notna(row['EVENT NAME']) else None,\n",
    "                str(row['DESCRIPTION']) if pd.notna(row['DESCRIPTION']) else None,\n",
    "                str(row['ASSOCIATED qualifierId VALUES']) if pd.notna(row['ASSOCIATED qualifierId VALUES']) else None\n",
    "            ))\n",
    "    \n",
    "    return event_types\n",
    "\n",
    "def insert_event_types(cursor, event_types_data: List[tuple]):\n",
    "    \"\"\"\n",
    "    Inserta o actualiza los tipos de eventos en la base de datos\n",
    "    \"\"\"\n",
    "    upsert_query = \"\"\"\n",
    "    INSERT INTO eventTypes \n",
    "        (eventTypeId, eventTypeName, eventTypeDescription, eventTypeAssociatedQualifierId)\n",
    "    VALUES \n",
    "        (%s, %s, %s, %s)\n",
    "    ON DUPLICATE KEY UPDATE\n",
    "        eventTypeName = VALUES(eventTypeName),\n",
    "        eventTypeDescription = VALUES(eventTypeDescription),\n",
    "        eventTypeAssociatedQualifierId = VALUES(eventTypeAssociatedQualifierId)\n",
    "    \"\"\"\n",
    "    \n",
    "    try:\n",
    "        cursor.executemany(upsert_query, event_types_data)\n",
    "        print(f\"Procesados {len(event_types_data)} tipos de eventos\")\n",
    "        print(f\"Insertados/Actualizados: {cursor.rowcount // 2} registros\")\n",
    "    except Exception as e:\n",
    "        print(f\"Error al procesar tipos de eventos: {str(e)}\")\n",
    "        raise\n",
    "\n",
    "def verify_data(cursor):\n",
    "    \"\"\"\n",
    "    Verifica los datos insertados\n",
    "    \"\"\"\n",
    "    query = \"SELECT * FROM eventTypes ORDER BY eventTypeId\"\n",
    "    cursor.execute(query)\n",
    "    records = cursor.fetchall()\n",
    "    print(f\"\\nTotal de tipos de eventos en la base de datos: {len(records)}\")\n",
    "    print(\"\\nPrimeros 5 registros como ejemplo:\")\n",
    "    for record in records[:5]:\n",
    "        print(record)\n",
    "\n",
    "\n",
    "\n",
    "\n",
    "\n",
    "\n",
    "    \n"
   ]
  },
  {
   "cell_type": "code",
   "execution_count": 5,
   "metadata": {},
   "outputs": [],
   "source": [
    "def main():\n",
    "    try:\n",
    "        # Establecer conexión\n",
    "        connection = connect_to_database()\n",
    "        cursor = connection.cursor()\n",
    "        \n",
    "        # Procesar el CSV\n",
    "        print(\"Procesando archivo CSV...\")\n",
    "        event_types_data = process_excel('Opta_typeId.xlsx')\n",
    "        \n",
    "        # Insertar/Actualizar datos\n",
    "        print(\"\\nInsertando datos en la base de datos...\")\n",
    "        insert_event_types(cursor, event_types_data)\n",
    "        \n",
    "        # Verificar los datos\n",
    "        verify_data(cursor)\n",
    "        \n",
    "        # Confirmar cambios\n",
    "        connection.commit()\n",
    "        print(\"\\nTodos los cambios fueron confirmados exitosamente\")\n",
    "        \n",
    "    except Exception as error:\n",
    "        print(f\"Error: {error}\")\n",
    "        if 'connection' in locals() and connection.is_connected():\n",
    "            connection.rollback()\n",
    "            print(\"Se realizó rollback de los cambios\")\n",
    "        \n",
    "    finally:\n",
    "        if 'connection' in locals() and connection.is_connected():\n",
    "            cursor.close()\n",
    "            connection.close()\n",
    "            print(\"Conexión cerrada\")"
   ]
  },
  {
   "cell_type": "code",
   "execution_count": 6,
   "metadata": {},
   "outputs": [
    {
     "name": "stdout",
     "output_type": "stream",
     "text": [
      "Procesando archivo CSV...\n",
      "\n",
      "Insertando datos en la base de datos...\n",
      "Procesados 78 tipos de eventos\n",
      "Insertados/Actualizados: 39 registros\n",
      "\n",
      "Total de tipos de eventos en la base de datos: 78\n",
      "\n",
      "Primeros 5 registros como ejemplo:\n",
      "(1, 'Pass', 'The attempted delivery of the ball from one player to another player on the same team. A player can use any part of their body (permitted in the laws of the game) to execute a pass. Event categorization includes open play passes, goal kicks, corners and f', '1, 2, 3, 4, 5, 6, 15, 22, 23, 24, 25, 26, 29, 31, 55, 56, 74, 96, 97, 106, 107, 123, 124, 138, 140, 141, 152, 154, 155, 156, 157, 160, 168, 189, 195, 196, 198, 199, 210, 212, 213, 214, 218, 223, 224, 225, 233, 236, 237, 238, 240, 241, 266, 278, 279, 286, ')\n",
      "(2, 'Offside Pass', 'A pass attempt where the intended receiving player is called offside. outcome: always set to 1', '1, 2, 3, 4, 5, 6, 7, 8, 23, 55, 56, 107, 123, 124, 140, 141, 152, 189, 241, 297, 298, 307, 345, 362')\n",
      "(3, 'Take On', 'An attempt by one player to dribble past an opponent. outcome: 0 = Unsuccessful - player lost possession or was tackled | 1 = Successful take on', '23, 56, 138, 189, 211, 233, 285, 286, 307, 312, 362, 459')\n",
      "(4, 'Foul', 'Indicates a foul has been committed. The event comes in pairs, with one for the team committing the foul (has outcome = 0) and another for the team fouled (outcome = 1).', '9, 10, 11, 12, 13, 23, 34, 39, 40, 55, 56, 95, 132, 152, 184, 189, 233, 241, 242, 264, 265, 285, 286, 289, 294, 295, 296, 307, 313, 348, 362')\n",
      "(5, 'Out', 'When the ball has left the field of play for a goal kick or throw in. Does not include corners. (outcome = 0) and another for the team who will resume the match in possession (outcome = 1).', '56, 189, 233, 362')\n",
      "\n",
      "Todos los cambios fueron confirmados exitosamente\n",
      "Conexión cerrada\n"
     ]
    }
   ],
   "source": [
    "if __name__ == \"__main__\":\n",
    "    main()"
   ]
  }
 ],
 "metadata": {
  "kernelspec": {
   "display_name": "base",
   "language": "python",
   "name": "python3"
  },
  "language_info": {
   "codemirror_mode": {
    "name": "ipython",
    "version": 3
   },
   "file_extension": ".py",
   "mimetype": "text/x-python",
   "name": "python",
   "nbconvert_exporter": "python",
   "pygments_lexer": "ipython3",
   "version": "3.11.8"
  }
 },
 "nbformat": 4,
 "nbformat_minor": 2
}

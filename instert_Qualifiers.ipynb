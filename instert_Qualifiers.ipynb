{
 "cells": [
  {
   "cell_type": "code",
   "execution_count": 1,
   "metadata": {},
   "outputs": [],
   "source": [
    "import pandas as pd\n",
    "import mysql.connector\n",
    "from typing import Dict, List\n",
    "from dotenv import load_dotenv # pip install python-dotenv\n",
    "import os"
   ]
  },
  {
   "cell_type": "code",
   "execution_count": 2,
   "metadata": {},
   "outputs": [
    {
     "data": {
      "text/plain": [
       "True"
      ]
     },
     "execution_count": 2,
     "metadata": {},
     "output_type": "execute_result"
    }
   ],
   "source": [
    "# Cargar variables desde el archivo .env\n",
    "load_dotenv(dotenv_path=\".env\")"
   ]
  },
  {
   "cell_type": "code",
   "execution_count": 3,
   "metadata": {},
   "outputs": [],
   "source": [
    "def connect_to_database():\n",
    "    \"\"\"Establece la conexión con la base de datos MySQL\"\"\"\n",
    "    host = os.getenv(\"host\")\n",
    "    user = os.getenv(\"user\")\n",
    "    password = os.getenv(\"password\")\n",
    "    database = os.getenv(\"database\")\n",
    "\n",
    "    return mysql.connector.connect(\n",
    "        host=host,\n",
    "        user=user,\n",
    "        password=password,\n",
    "        database=database\n",
    "    )"
   ]
  },
  {
   "cell_type": "code",
   "execution_count": 4,
   "metadata": {},
   "outputs": [],
   "source": [
    "def process_excel(file_path: str) -> List[tuple]:\n",
    "    \"\"\"\n",
    "    Procesa el archivo CSV de calificadores y retorna una lista de tuplas\n",
    "    para inserción en la base de datos\n",
    "    \"\"\"\n",
    "    # Leer el CSV\n",
    "    df = pd.read_excel(file_path)\n",
    "    \n",
    "    # Limpiar y procesar los datos\n",
    "    qualifiers = []\n",
    "    for _, row in df.iterrows():\n",
    "        # Verificar si tenemos un qualifierId válido\n",
    "        try:\n",
    "            qualifier_id = int(row['qualifierId'])\n",
    "        except (ValueError, TypeError):\n",
    "            continue\n",
    "            \n",
    "        # Verificar que tengamos un ID válido y un nombre\n",
    "        if pd.notna(qualifier_id) and pd.notna(row['QUALIFIER NAME']):\n",
    "            # Limpiar el nombre del calificador\n",
    "            qualifier_name = str(row['QUALIFIER NAME']).strip()\n",
    "            if qualifier_name:  # Solo agregar si hay un nombre válido\n",
    "                qualifiers.append((\n",
    "                    qualifier_id,\n",
    "                    qualifier_name\n",
    "                ))\n",
    "    \n",
    "    return qualifiers\n",
    "\n",
    "def insert_type_qualifiers(cursor, type_qualifiers_data: List[tuple]):\n",
    "    \"\"\"\n",
    "    Inserta o actualiza los tipos de calificadores en la base de datos\n",
    "    \"\"\"\n",
    "    upsert_query = \"\"\"\n",
    "    INSERT INTO typeQualifiers \n",
    "        (typeQualifierId, qualifierName)\n",
    "    VALUES \n",
    "        (%s, %s)\n",
    "    ON DUPLICATE KEY UPDATE\n",
    "        qualifierName = VALUES(qualifierName)\n",
    "    \"\"\"\n",
    "    \n",
    "    try:\n",
    "        cursor.executemany(upsert_query, type_qualifiers_data)\n",
    "        print(f\"Procesados {len(type_qualifiers_data)} tipos de calificadores\")\n",
    "        print(f\"Insertados/Actualizados: {cursor.rowcount // 2} registros\")\n",
    "        return True\n",
    "    except Exception as e:\n",
    "        print(f\"Error al procesar tipos de calificadores: {str(e)}\")\n",
    "        raise\n",
    "\n",
    "def verify_data(cursor):\n",
    "    \"\"\"\n",
    "    Verifica los datos insertados en la base de datos\n",
    "    \"\"\"\n",
    "    try:\n",
    "        # Obtener el total de registros\n",
    "        cursor.execute(\"SELECT COUNT(*) FROM typeQualifiers\")\n",
    "        total = cursor.fetchone()[0]\n",
    "        print(f\"\\nTotal de tipos de calificadores en la base de datos: {total}\")\n",
    "        \n",
    "        # Mostrar algunos ejemplos\n",
    "        cursor.execute(\"SELECT * FROM typeQualifiers ORDER BY typeQualifierId LIMIT 5\")\n",
    "        print(\"\\nEjemplos de registros insertados:\")\n",
    "        for record in cursor.fetchall():\n",
    "            print(f\"ID: {record[0]}, Nombre: {record[1]}\")\n",
    "            \n",
    "    except Exception as e:\n",
    "        print(f\"Error al verificar datos: {str(e)}\")\n"
   ]
  },
  {
   "cell_type": "code",
   "execution_count": 5,
   "metadata": {},
   "outputs": [],
   "source": [
    "\n",
    "def main():\n",
    "    connection = None\n",
    "    try:\n",
    "        # Establecer conexión\n",
    "        print(\"Conectando a la base de datos...\")\n",
    "        connection = connect_to_database()\n",
    "        cursor = connection.cursor()\n",
    "        \n",
    "        # Procesar el CSV\n",
    "        print(\"Procesando archivo CSV...\")\n",
    "        type_qualifiers_data = process_excel('Opta_qualifiers.xlsx')\n",
    "        \n",
    "        if not type_qualifiers_data:\n",
    "            raise ValueError(\"No se encontraron datos válidos para procesar en el CSV\")\n",
    "        \n",
    "        # Insertar/Actualizar datos\n",
    "        print(\"\\nInsertando datos en la base de datos...\")\n",
    "        insert_type_qualifiers(cursor, type_qualifiers_data)\n",
    "        \n",
    "        # Verificar los datos insertados\n",
    "        verify_data(cursor)\n",
    "        \n",
    "        # Confirmar cambios\n",
    "        connection.commit()\n",
    "        print(\"\\nTodos los cambios fueron confirmados exitosamente\")\n",
    "        \n",
    "    except Exception as error:\n",
    "        print(f\"\\nError: {error}\")\n",
    "        if connection and connection.is_connected():\n",
    "            connection.rollback()\n",
    "            print(\"Se realizó rollback de los cambios\")\n",
    "        \n",
    "    finally:\n",
    "        if connection and connection.is_connected():\n",
    "            cursor.close()\n",
    "            connection.close()\n",
    "            print(\"Conexión cerrada\")\n"
   ]
  },
  {
   "cell_type": "code",
   "execution_count": 6,
   "metadata": {},
   "outputs": [
    {
     "name": "stdout",
     "output_type": "stream",
     "text": [
      "Conectando a la base de datos...\n",
      "Procesando archivo CSV...\n",
      "\n",
      "Insertando datos en la base de datos...\n",
      "Procesados 387 tipos de calificadores\n",
      "Insertados/Actualizados: 194 registros\n",
      "\n",
      "Total de tipos de calificadores en la base de datos: 386\n",
      "\n",
      "Ejemplos de registros insertados:\n",
      "ID: 1, Nombre: Long ball\n",
      "ID: 2, Nombre: Cross\n",
      "ID: 3, Nombre: Head pass\n",
      "ID: 4, Nombre: Through ball\n",
      "ID: 5, Nombre: Free kick taken\n",
      "\n",
      "Todos los cambios fueron confirmados exitosamente\n",
      "Conexión cerrada\n"
     ]
    }
   ],
   "source": [
    "if __name__ == \"__main__\":\n",
    "    main()"
   ]
  }
 ],
 "metadata": {
  "kernelspec": {
   "display_name": "base",
   "language": "python",
   "name": "python3"
  },
  "language_info": {
   "codemirror_mode": {
    "name": "ipython",
    "version": 3
   },
   "file_extension": ".py",
   "mimetype": "text/x-python",
   "name": "python",
   "nbconvert_exporter": "python",
   "pygments_lexer": "ipython3",
   "version": "3.11.8"
  }
 },
 "nbformat": 4,
 "nbformat_minor": 2
}
